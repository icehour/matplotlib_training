{
 "cells": [
  {
   "cell_type": "code",
   "execution_count": 76,
   "metadata": {},
   "outputs": [
    {
     "name": "stdout",
     "output_type": "stream",
     "text": [
      "   b  c  a\n",
      "0  2  5  1\n",
      "1  3  6  2\n",
      "2  4  7  3\n",
      "   a1  b1  c1\n",
      "0   2   5   1\n",
      "1   3   6   2\n",
      "2   4   7   3\n"
     ]
    },
    {
     "data": {
      "text/html": [
       "<div>\n",
       "<style scoped>\n",
       "    .dataframe tbody tr th:only-of-type {\n",
       "        vertical-align: middle;\n",
       "    }\n",
       "\n",
       "    .dataframe tbody tr th {\n",
       "        vertical-align: top;\n",
       "    }\n",
       "\n",
       "    .dataframe thead th {\n",
       "        text-align: right;\n",
       "    }\n",
       "</style>\n",
       "<table border=\"1\" class=\"dataframe\">\n",
       "  <thead>\n",
       "    <tr style=\"text-align: right;\">\n",
       "      <th></th>\n",
       "      <th>a1</th>\n",
       "      <th>b1</th>\n",
       "    </tr>\n",
       "  </thead>\n",
       "  <tbody>\n",
       "    <tr>\n",
       "      <th>0</th>\n",
       "      <td>2</td>\n",
       "      <td>5</td>\n",
       "    </tr>\n",
       "    <tr>\n",
       "      <th>1</th>\n",
       "      <td>3</td>\n",
       "      <td>6</td>\n",
       "    </tr>\n",
       "    <tr>\n",
       "      <th>2</th>\n",
       "      <td>4</td>\n",
       "      <td>7</td>\n",
       "    </tr>\n",
       "  </tbody>\n",
       "</table>\n",
       "</div>"
      ],
      "text/plain": [
       "  a1  b1\n",
       "0  2   5\n",
       "1  3   6\n",
       "2  4   7"
      ]
     },
     "execution_count": 76,
     "metadata": {},
     "output_type": "execute_result"
    }
   ],
   "source": [
    "import numpy as np\n",
    "import pandas as pd\n",
    "\n",
    "# data类型为字典，其中值类型为序列\n",
    "data = {\"a\":[1,2,3], \n",
    "        \"b\":[2,3,4],\n",
    "        \"c\":[5,6,7]}\n",
    "cols = ['b','c','a']\n",
    "df = pd.DataFrame(data, columns=cols)\n",
    "print(df)\n",
    "\n",
    "# 显示列名\n",
    "df.columns\n",
    "\n",
    "# 修改某列列名， inplace为true代表返回值为none\n",
    "a = df.rename(columns = {'a':'a_new'}, inplace = True)  # a为none\n",
    "b = df.rename(columns = {df.columns[1]:'f'}, inplace = False) # b为改为列名的df\n",
    "# 依次修改全部的列名\n",
    "df.columns = ['a1','b1','c1']\n",
    "print(df)\n",
    "\n",
    "df.dtypes\n",
    "# 修改某列类型 \n",
    "df[['a1','c1']] = df[['a1','c1']].astype(np.str)\n",
    "df.dtypes\n",
    "\n",
    "# 显示开头n行\n",
    "df.head(2)\n",
    "# 显示结尾n行\n",
    "df.tail(2)\n",
    "df[['a1','b1']]\n",
    "# pandas提供了dt，str可对应(Datetime, Timedelta, Period)(String)来用，pd.dt.strftime() \n",
    "# pd.str.contains()正则表达式筛选 df.loc[Series.str.contains()]\n",
    "\n",
    "# groupby('a')后会把a列作为索引，groupby('a', as_index=False)可以不把a作为索引。\n",
    "# b = groupby('a').mean().reset_index() reset_index()将索引还原为列， set_index()将列设为索引\n",
    "# 以上可参考https://blog.csdn.net/jingyi130705008/article/details/78162758\n",
    "\n",
    "\n",
    "# b = groupby('a').agg({'a':[np.min, np.max]}) 这个返回结果当列名是元组[('a','amin'),('b','amax')] 是二维，\n",
    "# 降维的方法b.columns.droplevel(0)，把a去掉，['amin','max']\n",
    "# 如果想把多个维度名字关联起来可以用df.columns = [\"_\".join(x) for x in df.columns.ravel()] \n",
    "# 以上可参考https://stackoverflow.com/questions/19078325/naming-returned-columns-in-pandas-aggregate-function\n",
    "\n",
    "# df.groupby('A').cumcount() 组内排序的序号\n",
    "\n",
    "# df.assign(A=['a','b','c']) 在df后面添加列，列名为A，当原来当df中已经有列，则把原来当数据覆盖\n",
    "\n",
    "# a1列不重复的值有多少个\n",
    "#len(df['a1'].unique())"
   ]
  },
  {
   "cell_type": "code",
   "execution_count": 33,
   "metadata": {},
   "outputs": [
    {
     "data": {
      "text/plain": [
       "array([[ 0.09061331, -0.19596099,  1.35701664],\n",
       "       [ 0.15366323,  1.60099205,  0.41902891],\n",
       "       [-2.0474981 , -1.50476801, -0.01979202],\n",
       "       [ 2.20232638,  0.08116861,  0.57481598],\n",
       "       [ 0.71955435,  0.36170491,  0.0376812 ],\n",
       "       [ 0.08205848,  1.45131812, -1.9059626 ],\n",
       "       [ 0.86810384, -0.03752803, -0.47082517],\n",
       "       [-0.83054187,  0.9063499 , -0.344364  ]])"
      ]
     },
     "execution_count": 33,
     "metadata": {},
     "output_type": "execute_result"
    }
   ],
   "source": [
    "index = pd.date_range('1/1/2000', periods=8)\n",
    "index\n",
    "\n",
    "np.random.randn(8, 3)"
   ]
  },
  {
   "cell_type": "code",
   "execution_count": 84,
   "metadata": {},
   "outputs": [
    {
     "data": {
      "text/html": [
       "<div>\n",
       "<style scoped>\n",
       "    .dataframe tbody tr th:only-of-type {\n",
       "        vertical-align: middle;\n",
       "    }\n",
       "\n",
       "    .dataframe tbody tr th {\n",
       "        vertical-align: top;\n",
       "    }\n",
       "\n",
       "    .dataframe thead th {\n",
       "        text-align: right;\n",
       "    }\n",
       "</style>\n",
       "<table border=\"1\" class=\"dataframe\">\n",
       "  <thead>\n",
       "    <tr style=\"text-align: right;\">\n",
       "      <th></th>\n",
       "      <th>a</th>\n",
       "      <th>b</th>\n",
       "      <th>c</th>\n",
       "      <th>d</th>\n",
       "    </tr>\n",
       "  </thead>\n",
       "  <tbody>\n",
       "    <tr>\n",
       "      <th>2010-09-01</th>\n",
       "      <td>-0.324114</td>\n",
       "      <td>0.058515</td>\n",
       "      <td>-1.565776</td>\n",
       "      <td>-1.351029</td>\n",
       "    </tr>\n",
       "    <tr>\n",
       "      <th>2010-09-02</th>\n",
       "      <td>-1.543315</td>\n",
       "      <td>-2.976042</td>\n",
       "      <td>0.697630</td>\n",
       "      <td>1.026345</td>\n",
       "    </tr>\n",
       "    <tr>\n",
       "      <th>2010-09-03</th>\n",
       "      <td>0.524318</td>\n",
       "      <td>0.400879</td>\n",
       "      <td>1.311644</td>\n",
       "      <td>0.875702</td>\n",
       "    </tr>\n",
       "    <tr>\n",
       "      <th>2010-09-04</th>\n",
       "      <td>0.498210</td>\n",
       "      <td>0.629206</td>\n",
       "      <td>1.449337</td>\n",
       "      <td>-0.273894</td>\n",
       "    </tr>\n",
       "    <tr>\n",
       "      <th>2010-09-05</th>\n",
       "      <td>-0.504373</td>\n",
       "      <td>-1.588985</td>\n",
       "      <td>-1.171013</td>\n",
       "      <td>-0.981644</td>\n",
       "    </tr>\n",
       "    <tr>\n",
       "      <th>2010-09-06</th>\n",
       "      <td>0.503770</td>\n",
       "      <td>-1.743661</td>\n",
       "      <td>-1.058501</td>\n",
       "      <td>1.460685</td>\n",
       "    </tr>\n",
       "  </tbody>\n",
       "</table>\n",
       "</div>"
      ],
      "text/plain": [
       "                   a         b         c         d\n",
       "2010-09-01 -0.324114  0.058515 -1.565776 -1.351029\n",
       "2010-09-02 -1.543315 -2.976042  0.697630  1.026345\n",
       "2010-09-03  0.524318  0.400879  1.311644  0.875702\n",
       "2010-09-04  0.498210  0.629206  1.449337 -0.273894\n",
       "2010-09-05 -0.504373 -1.588985 -1.171013 -0.981644\n",
       "2010-09-06  0.503770 -1.743661 -1.058501  1.460685"
      ]
     },
     "execution_count": 84,
     "metadata": {},
     "output_type": "execute_result"
    }
   ],
   "source": [
    "import numpy as np\n",
    "import pandas as pd\n",
    "index = pd.date_range('2010-09',periods=6)\n",
    "df = pd.DataFrame(np.random.randn(6,4), index=index, columns=list('abcd'))\n",
    "df"
   ]
  },
  {
   "cell_type": "code",
   "execution_count": null,
   "metadata": {},
   "outputs": [],
   "source": []
  }
 ],
 "metadata": {
  "kernelspec": {
   "display_name": "Python 3",
   "language": "python",
   "name": "python3"
  },
  "language_info": {
   "codemirror_mode": {
    "name": "ipython",
    "version": 3
   },
   "file_extension": ".py",
   "mimetype": "text/x-python",
   "name": "python",
   "nbconvert_exporter": "python",
   "pygments_lexer": "ipython3",
   "version": "3.7.1"
  }
 },
 "nbformat": 4,
 "nbformat_minor": 2
}
